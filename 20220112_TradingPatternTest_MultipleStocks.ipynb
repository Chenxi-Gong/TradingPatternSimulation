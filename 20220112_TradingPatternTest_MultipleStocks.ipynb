{
 "cells": [
  {
   "cell_type": "code",
   "execution_count": 1,
   "id": "36ee6aae",
   "metadata": {},
   "outputs": [],
   "source": [
    "stock_list = ['sh.600000', 'sh.600004', 'sh.600006']\n",
    "start_date = '2019-01-01'\n",
    "end_date = '2021-12-31'"
   ]
  },
  {
   "cell_type": "code",
   "execution_count": 2,
   "id": "9143d0ee",
   "metadata": {},
   "outputs": [],
   "source": [
    "import baostock as bs\n",
    "import pandas as pd\n",
    "import matplotlib.pyplot as plt\n",
    "import numpy as np\n",
    "import simulation"
   ]
  },
  {
   "cell_type": "code",
   "execution_count": 13,
   "id": "edcea93a",
   "metadata": {},
   "outputs": [
    {
     "data": {
      "text/html": [
       "<div>\n",
       "<style scoped>\n",
       "    .dataframe tbody tr th:only-of-type {\n",
       "        vertical-align: middle;\n",
       "    }\n",
       "\n",
       "    .dataframe tbody tr th {\n",
       "        vertical-align: top;\n",
       "    }\n",
       "\n",
       "    .dataframe thead th {\n",
       "        text-align: right;\n",
       "    }\n",
       "</style>\n",
       "<table border=\"1\" class=\"dataframe\">\n",
       "  <thead>\n",
       "    <tr style=\"text-align: right;\">\n",
       "      <th></th>\n",
       "      <th>Stock num</th>\n",
       "      <th>Average profit</th>\n",
       "      <th>Accumulated profit</th>\n",
       "    </tr>\n",
       "  </thead>\n",
       "  <tbody>\n",
       "    <tr>\n",
       "      <th>0</th>\n",
       "      <td>sh.600000</td>\n",
       "      <td>0.004463</td>\n",
       "      <td>0.015375</td>\n",
       "    </tr>\n",
       "    <tr>\n",
       "      <th>1</th>\n",
       "      <td>sh.600004</td>\n",
       "      <td>0.002943</td>\n",
       "      <td>0.012806</td>\n",
       "    </tr>\n",
       "    <tr>\n",
       "      <th>2</th>\n",
       "      <td>sh.600006</td>\n",
       "      <td>-0.015189</td>\n",
       "      <td>-0.074539</td>\n",
       "    </tr>\n",
       "  </tbody>\n",
       "</table>\n",
       "</div>"
      ],
      "text/plain": [
       "   Stock num  Average profit  Accumulated profit\n",
       "0  sh.600000        0.004463            0.015375\n",
       "1  sh.600004        0.002943            0.012806\n",
       "2  sh.600006       -0.015189           -0.074539"
      ]
     },
     "execution_count": 13,
     "metadata": {},
     "output_type": "execute_result"
    }
   ],
   "source": [
    "profit = []\n",
    "for stock_num in stock_list:\n",
    "    average, accumulation = simulation.simulation(stock_num, start_date, end_date, show = 0)\n",
    "    profit.append([stock_num, average, accumulation])\n",
    "df = pd.DataFrame(profit, columns = ['Stock num', 'Average profit', 'Accumulated profit'])\n",
    "df"
   ]
  }
 ],
 "metadata": {
  "kernelspec": {
   "display_name": "Python [conda env:pytorch]",
   "language": "python",
   "name": "conda-env-pytorch-py"
  },
  "language_info": {
   "codemirror_mode": {
    "name": "ipython",
    "version": 3
   },
   "file_extension": ".py",
   "mimetype": "text/x-python",
   "name": "python",
   "nbconvert_exporter": "python",
   "pygments_lexer": "ipython3",
   "version": "3.7.11"
  }
 },
 "nbformat": 4,
 "nbformat_minor": 5
}
