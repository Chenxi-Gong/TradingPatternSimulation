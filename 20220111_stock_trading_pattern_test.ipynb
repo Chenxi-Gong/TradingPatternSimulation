{
 "cells": [
  {
   "cell_type": "markdown",
   "id": "aedf545c",
   "metadata": {},
   "source": [
    "# Stock trading pattern test"
   ]
  },
  {
   "cell_type": "markdown",
   "id": "d1af89a5",
   "metadata": {},
   "source": [
    "Simulation of a trading pattern (on a Chinese stock).\n",
    "\n",
    "Average profit rate of this trading pattern will be calculated.\n",
    "\n",
    "Visualization available."
   ]
  },
  {
   "cell_type": "markdown",
   "id": "79a0b083",
   "metadata": {},
   "source": [
    "-- GongChen'xi\n",
    "\n",
    "  20220111"
   ]
  },
  {
   "cell_type": "code",
   "execution_count": 1,
   "id": "b98b8160",
   "metadata": {},
   "outputs": [],
   "source": [
    "# parameters\n",
    "stock_num = 'sh.600000'\n",
    "start_date = '2019-01-01'\n",
    "end_date = '2021-12-31'"
   ]
  },
  {
   "cell_type": "code",
   "execution_count": 2,
   "id": "5003d26c",
   "metadata": {},
   "outputs": [],
   "source": [
    "import baostock as bs\n",
    "import pandas as pd\n",
    "import matplotlib.pyplot as plt\n",
    "import numpy as np"
   ]
  },
  {
   "cell_type": "code",
   "execution_count": 3,
   "id": "df02a3be",
   "metadata": {},
   "outputs": [],
   "source": [
    "def fetch_info(stock_num, info, start_date, end_date):\n",
    "    bs.login()\n",
    "    rs = bs.query_history_k_data_plus(stock_num, info,\n",
    "        start_date = start_date, end_date = end_date,\n",
    "        frequency=\"d\", adjustflag=\"3\")\n",
    "    data_list = []\n",
    "    while (rs.error_code == '0') & rs.next():\n",
    "        data_list.append(rs.get_row_data())\n",
    "    bs.logout()\n",
    "    return data_list"
   ]
  },
  {
   "cell_type": "code",
   "execution_count": 4,
   "id": "42646cc4",
   "metadata": {},
   "outputs": [
    {
     "name": "stdout",
     "output_type": "stream",
     "text": [
      "login success!\n",
      "logout success!\n"
     ]
    }
   ],
   "source": [
    "# make dictionary of RSI6, RSI24\n",
    "rsi6 = {}\n",
    "rsi24 = {}\n",
    "change = fetch_info(stock_num, 'date, pctChg', start_date, end_date)\n",
    "\n",
    "for i in range(len(change)):\n",
    "    if i >= 23:\n",
    "        date = change[i][0]\n",
    "        \n",
    "        # RSI6\n",
    "        try:\n",
    "            denominator = 0\n",
    "            numerator = 0\n",
    "            for j in range(6):\n",
    "                denominator += abs(float(change[i-j][1]))\n",
    "                if float(change[i-j][1]) > 0:\n",
    "                    numerator += abs(float(change[i-j][1]))\n",
    "            rsi6[date] = numerator/denominator\n",
    "        except:\n",
    "            rsi6[date] = 0.0\n",
    "            \n",
    "        # RSI24\n",
    "        try:\n",
    "            denominator = 0\n",
    "            numerator = 0\n",
    "            for j in range(24):\n",
    "                denominator += abs(float(change[i-j][1]))\n",
    "                if float(change[i-j][1]) > 0:\n",
    "                    numerator += abs(float(change[i-j][1]))\n",
    "            rsi24[date] = numerator/denominator\n",
    "        except:\n",
    "            rsi24[date] = 0.0"
   ]
  },
  {
   "cell_type": "code",
   "execution_count": 5,
   "id": "611a4b62",
   "metadata": {},
   "outputs": [
    {
     "name": "stdout",
     "output_type": "stream",
     "text": [
      "login success!\n",
      "logout success!\n"
     ]
    }
   ],
   "source": [
    "# make dictionary of close price\n",
    "close_price = {}\n",
    "close = fetch_info(stock_num, 'date, close', start_date, end_date)\n",
    "\n",
    "for i in range(len(close)):\n",
    "    close_price[close[i][0]] = float(close[i][1])"
   ]
  },
  {
   "cell_type": "code",
   "execution_count": 6,
   "id": "9d08955e",
   "metadata": {},
   "outputs": [
    {
     "name": "stdout",
     "output_type": "stream",
     "text": [
      "login success!\n",
      "logout success!\n"
     ]
    }
   ],
   "source": [
    "# make list of trading dates\n",
    "trading_date_list = []\n",
    "date = fetch_info(stock_num, 'date', start_date, end_date)\n",
    "for i in range(len(date)):\n",
    "    trading_date_list.append(date[i][0])"
   ]
  },
  {
   "cell_type": "code",
   "execution_count": 7,
   "id": "282ca195",
   "metadata": {},
   "outputs": [],
   "source": [
    "def change_rate(buy_date, date):\n",
    "    buy_price = close_price[buy_date]\n",
    "    current_price = close_price[date]\n",
    "    change = (current_price-buy_price)/buy_price\n",
    "    return change\n",
    "\n",
    "def buy_signal(date):\n",
    "    buy = 1\n",
    "    # RSI24  < 30 and\n",
    "    if rsi24[date] >= 0.3:\n",
    "        buy = 0\n",
    "    # RSI6 < 50 and\n",
    "    if rsi6[date] >= 0.5:\n",
    "        buy = 0\n",
    "    # RSI6 - RSI24 > 0.5\n",
    "    if rsi6[date] - rsi24[date] <= 0.05:\n",
    "        buy = 0\n",
    "    return buy\n",
    "\n",
    "def sell_signal(buy_date, date):\n",
    "    sell = 0\n",
    "    # loss = 5% or\n",
    "    if change_rate(buy_date, date) < -0.05:\n",
    "        sell = 1\n",
    "    # profit = 10% or\n",
    "    if change_rate(buy_date, date) > 0.1:\n",
    "        sell = 1\n",
    "    # RSI6 > 75 or\n",
    "    if rsi6[date] > 0.75:\n",
    "        sell = 1\n",
    "    # RSI24 > 60 or\n",
    "    if rsi24[date] > 0.60:\n",
    "        sell = 1\n",
    "    # RSI6 - RSI24 < 0\n",
    "    if rsi6[date] - rsi24[date] < 0.0:\n",
    "        sell = 1\n",
    "    return sell\n",
    "\n",
    "def simulation_start_date():\n",
    "    date = trading_date_list[23]\n",
    "    return date\n",
    "\n",
    "def next_date(date):\n",
    "    new_date = None\n",
    "    for i in range(len(trading_date_list)):\n",
    "        if trading_date_list[i] == date:\n",
    "            new_date = trading_date_list[i+1]\n",
    "    return new_date"
   ]
  },
  {
   "cell_type": "code",
   "execution_count": 8,
   "id": "1d207743",
   "metadata": {},
   "outputs": [],
   "source": [
    "# simulation\n",
    "position = 0 # 1 for stock, 0 for cash\n",
    "date = simulation_start_date()\n",
    "record = []\n",
    "buy_date = None\n",
    "\n",
    "while True:\n",
    "    if position == 0:\n",
    "        if buy_signal(date) == 1:\n",
    "            # all in\n",
    "            position = 1\n",
    "            buy_date = date\n",
    "            # record behavior\n",
    "            record.append((date, 'buy'))\n",
    "        else:\n",
    "            # stand\n",
    "            pass\n",
    "    else:\n",
    "        if sell_signal(buy_date, date) == 1:\n",
    "            # sell all\n",
    "            position = 0\n",
    "            # record behavior\n",
    "            record.append((date, 'sell'))\n",
    "        else:\n",
    "            # stand\n",
    "            pass\n",
    "    if date == end_date:\n",
    "        break\n",
    "    # move to next trading day\n",
    "    date = next_date(date)"
   ]
  },
  {
   "cell_type": "code",
   "execution_count": 9,
   "id": "cdb23c8b",
   "metadata": {},
   "outputs": [
    {
     "name": "stdout",
     "output_type": "stream",
     "text": [
      "         date action  close\n",
      "0  2019-12-05    buy  11.89\n",
      "1  2019-12-17   sell  12.39\n",
      "2  2020-09-18    buy   9.94\n",
      "3  2020-09-28   sell   9.46\n",
      "4  2021-10-25    buy   9.03\n",
      "5  2021-10-28   sell   8.96\n",
      "6  2021-11-10    buy   8.48\n",
      "7  2021-11-15   sell   8.75\n",
      "\n",
      "Average yield on this pattern of trading:  0.0044625227214519225\n"
     ]
    },
    {
     "data": {
      "image/png": "[encoded data removed]",
      "text/plain": [
       "<Figure size 432x288 with 1 Axes>"
      ]
     },
     "metadata": {
      "needs_background": "light"
     },
     "output_type": "display_data"
    }
   ],
   "source": [
    "# trade record\n",
    "close = []\n",
    "date = []\n",
    "for i in close_price:\n",
    "    close.append(close_price[i])\n",
    "    date.append(i)\n",
    "t = []\n",
    "for i in range(len(close)):\n",
    "    t.append(i)\n",
    "plt.plot(t, close)\n",
    "\n",
    "buy_price = []\n",
    "buy_t = []\n",
    "sell_price = []\n",
    "sell_t = []\n",
    "for i in record:\n",
    "    for j in range(len(date)):\n",
    "        if date[j] == i[0]:\n",
    "            if i[1] == 'buy':\n",
    "                buy_price.append(close_price[date[j]])\n",
    "                buy_t.append(j)\n",
    "            if i[1] == 'sell':\n",
    "                sell_price.append(close_price[date[j]])\n",
    "                sell_t.append(j)\n",
    "plt.scatter(buy_t, buy_price, color = 'red')\n",
    "plt.scatter(sell_t, sell_price, color = 'green')\n",
    "\n",
    "trade_list = []\n",
    "for i in record:\n",
    "    for j in range(len(date)):\n",
    "        if date[j] == i[0]:\n",
    "            trade_list.append([i[0], i[1], close_price[date[j]]])\n",
    "trade = pd.DataFrame(trade_list, columns = ['date', 'action', 'close'])\n",
    "print(trade, end = '\\n\\n')\n",
    "\n",
    "profit = []\n",
    "if len(trade_list) % 2 == 1:\n",
    "    trade_list.pop()\n",
    "for i in range(int(len(trade_list)/2)):\n",
    "    profit.append((trade_list[2*i+1][2] - trade_list[2*i][2])/trade_list[2*i][2])\n",
    "profit = np.array(profit)\n",
    "average = profit.mean()\n",
    "print('Average yield on this pattern of trading: ', average)"
   ]
  }
 ],
 "metadata": {
  "kernelspec": {
   "display_name": "Python [conda env:pytorch]",
   "language": "python",
   "name": "conda-env-pytorch-py"
  },
  "language_info": {
   "codemirror_mode": {
    "name": "ipython",
    "version": 3
   },
   "file_extension": ".py",
   "mimetype": "text/x-python",
   "name": "python",
   "nbconvert_exporter": "python",
   "pygments_lexer": "ipython3",
   "version": "3.7.11"
  }
 },
 "nbformat": 4,
 "nbformat_minor": 5
}
