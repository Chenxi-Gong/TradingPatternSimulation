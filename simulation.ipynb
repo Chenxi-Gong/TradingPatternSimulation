{
 "cells": [
  {
   "cell_type": "markdown",
   "id": "79a0b083",
   "metadata": {},
   "source": [
    "-- GongChen'xi\n",
    "\n",
    "  20220113"
   ]
  },
  {
   "cell_type": "code",
   "execution_count": 1,
   "id": "5003d26c",
   "metadata": {},
   "outputs": [],
   "source": [
    "import baostock as bs\n",
    "import pandas as pd\n",
    "import matplotlib.pyplot as plt\n",
    "import numpy as np\n",
    "import os, sys"
   ]
  },
  {
   "cell_type": "code",
   "execution_count": 2,
   "id": "df02a3be",
   "metadata": {},
   "outputs": [],
   "source": [
    "def fetch_info(stock_num, info, start_date, end_date):\n",
    "    bs.login()\n",
    "    rs = bs.query_history_k_data_plus(stock_num, info,\n",
    "        start_date = start_date, end_date = end_date,\n",
    "        frequency=\"d\", adjustflag=\"3\")\n",
    "    data_list = []\n",
    "    while (rs.error_code == '0') & rs.next():\n",
    "        data_list.append(rs.get_row_data())\n",
    "    bs.logout()\n",
    "    return data_list"
   ]
  },
  {
   "cell_type": "code",
   "execution_count": 3,
   "id": "42646cc4",
   "metadata": {},
   "outputs": [],
   "source": [
    "# make dictionary of RSI6, RSI24\n",
    "def get_rsi(stock_num, start_date, end_date):\n",
    "    rsi6 = {}\n",
    "    rsi24 = {}\n",
    "    change = fetch_info(stock_num, 'date, pctChg', start_date, end_date)\n",
    "\n",
    "    for i in range(len(change)):\n",
    "        if i >= 23:\n",
    "            date = change[i][0]\n",
    "\n",
    "            # RSI6\n",
    "            try:\n",
    "                denominator = 0\n",
    "                numerator = 0\n",
    "                for j in range(6):\n",
    "                    denominator += abs(float(change[i-j][1]))\n",
    "                    if float(change[i-j][1]) > 0:\n",
    "                        numerator += abs(float(change[i-j][1]))\n",
    "                rsi6[date] = numerator/denominator\n",
    "            except:\n",
    "                rsi6[date] = 0.0\n",
    "\n",
    "            # RSI24\n",
    "            try:\n",
    "                denominator = 0\n",
    "                numerator = 0\n",
    "                for j in range(24):\n",
    "                    denominator += abs(float(change[i-j][1]))\n",
    "                    if float(change[i-j][1]) > 0:\n",
    "                        numerator += abs(float(change[i-j][1]))\n",
    "                rsi24[date] = numerator/denominator\n",
    "            except:\n",
    "                rsi24[date] = 0.0\n",
    "    return rsi6, rsi24"
   ]
  },
  {
   "cell_type": "code",
   "execution_count": 4,
   "id": "611a4b62",
   "metadata": {},
   "outputs": [],
   "source": [
    "# make dictionary of close price\n",
    "def get_price(stock_num, start_date, end_date):\n",
    "    close_price = {}\n",
    "    close = fetch_info(stock_num, 'date, close', start_date, end_date)\n",
    "    for i in range(len(close)):\n",
    "        close_price[close[i][0]] = float(close[i][1])\n",
    "    return close_price"
   ]
  },
  {
   "cell_type": "code",
   "execution_count": 5,
   "id": "9d08955e",
   "metadata": {},
   "outputs": [],
   "source": [
    "# make list of trading dates\n",
    "def get_trading_dates(stock_num, start_date, end_date):\n",
    "    trading_date_list = []\n",
    "    date = fetch_info(stock_num, 'date', start_date, end_date)\n",
    "    for i in range(len(date)):\n",
    "        trading_date_list.append(date[i][0])\n",
    "    return trading_date_list"
   ]
  },
  {
   "cell_type": "code",
   "execution_count": 6,
   "id": "282ca195",
   "metadata": {},
   "outputs": [],
   "source": [
    "def change_rate(buy_date, date, close_price):\n",
    "    buy_price = close_price[buy_date]\n",
    "    current_price = close_price[date]\n",
    "    change = (current_price-buy_price)/buy_price\n",
    "    return change\n",
    "\n",
    "def simulation_start_date(trading_date_list):\n",
    "    date = trading_date_list[23]\n",
    "    return date\n",
    "\n",
    "def next_date(date, trading_date_list):\n",
    "    new_date = None\n",
    "    for i in range(len(trading_date_list)):\n",
    "        if trading_date_list[i] == date:\n",
    "            new_date = trading_date_list[i+1]\n",
    "    return new_date"
   ]
  },
  {
   "cell_type": "code",
   "execution_count": null,
   "id": "7d28b712",
   "metadata": {},
   "outputs": [],
   "source": [
    "def initialize(stock_num, start_date, end_date):\n",
    "    close_price = get_price(stock_num, start_date, end_date)\n",
    "    trading_date_list = get_trading_dates(stock_num, start_date, end_date)\n",
    "    date = simulation_start_date(trading_date_list)\n",
    "    return close_price, trading_date_list, date"
   ]
  },
  {
   "cell_type": "code",
   "execution_count": null,
   "id": "e53cc650",
   "metadata": {},
   "outputs": [],
   "source": [
    "# analysis\n",
    "def analysis(record, close_price, show):\n",
    "    close = []\n",
    "    date = []\n",
    "    for i in close_price:\n",
    "        close.append(close_price[i])\n",
    "        date.append(i)\n",
    "    t = []\n",
    "    for i in range(len(close)):\n",
    "        t.append(i)\n",
    "\n",
    "    buy_price = []\n",
    "    buy_t = []\n",
    "    sell_price = []\n",
    "    sell_t = []\n",
    "    for i in record:\n",
    "        for j in range(len(date)):\n",
    "            if date[j] == i[0]:\n",
    "                if i[1] == 'buy':\n",
    "                    buy_price.append(close_price[date[j]])\n",
    "                    buy_t.append(j)\n",
    "                if i[1] == 'sell':\n",
    "                    sell_price.append(close_price[date[j]])\n",
    "                    sell_t.append(j)\n",
    "\n",
    "    trade_list = []\n",
    "    for i in record:\n",
    "        for j in range(len(date)):\n",
    "            if date[j] == i[0]:\n",
    "                trade_list.append([i[0], i[1], close_price[date[j]]])\n",
    "    trade = pd.DataFrame(trade_list, columns = ['date', 'action', 'close'])\n",
    "    #print(trade, end = '\\n\\n')\n",
    "\n",
    "    profit = []\n",
    "    if len(trade_list) % 2 == 1:\n",
    "        trade_list.pop()\n",
    "    for i in range(int(len(trade_list)/2)):\n",
    "        profit.append((trade_list[2*i+1][2] - trade_list[2*i][2])/trade_list[2*i][2])\n",
    "    profit = np.array(profit)\n",
    "    average = profit.mean()\n",
    "    accumulated = ((profit + 1).cumprod() - 1)[-1]\n",
    "    \n",
    "    if show:\n",
    "        print('On this pattern of trading,')\n",
    "        print('Average yield: ', average)\n",
    "        print('Accumulated yield: ', accumulated)\n",
    "        plt.plot(t, close)\n",
    "        plt.scatter(buy_t, buy_price, color = 'red')\n",
    "        plt.scatter(sell_t, sell_price, color = 'green')\n",
    "        \n",
    "    return average, accumulated"
   ]
  }
 ],
 "metadata": {
  "kernelspec": {
   "display_name": "Python [conda env:pytorch]",
   "language": "python",
   "name": "conda-env-pytorch-py"
  },
  "language_info": {
   "codemirror_mode": {
    "name": "ipython",
    "version": 3
   },
   "file_extension": ".py",
   "mimetype": "text/x-python",
   "name": "python",
   "nbconvert_exporter": "python",
   "pygments_lexer": "ipython3",
   "version": "3.7.11"
  }
 },
 "nbformat": 4,
 "nbformat_minor": 5
}
